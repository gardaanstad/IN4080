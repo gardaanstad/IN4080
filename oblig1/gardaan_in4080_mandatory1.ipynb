{
 "cells": [
  {
   "cell_type": "markdown",
   "metadata": {},
   "source": [
    "# IN4080: obligatory assignment 1 (Autumn 2025)\n",
    " \n",
    "Mandatory assignment 1 consists of three parts. In Part 1 (6 points), you will test and improve on a BPE (Byte-Pair-Encoding) tokenizer . In Part 2 (7 points), you will estimate an N-gram language model, based on a training corpus and the tokenizer you worked on in Part 1. Finally, in Part 3 (7 points), you will develop a basic classification model to distinguish between Bokmål and Nynorsk sentences.\n",
    "\n",
    "You should answer all three parts. You are required to get at least 12/20 points to pass. The most important is that you try to answer each question (possibly with some mistakes), to help you gain a better and more concrete understanding of the topics covered during the lectures. There are also bonus questions for those of you who would like to deepen their understanding of the topics covered by this assignment.\n",
    "\n",
    "- We assume that you have read and are familiar with IFI’s requirements and guidelines for mandatory assignments, see [here](https://www.uio.no/english/studies/examinations/compulsory-activities/mn-ifi-mandatory.html) and [here](https://www.uio.no/english/studies/examinations/compulsory-activities/mn-ifi-guidelines.html).\n",
    "- This is an individual assignment. You should not deliver joint submissions. \n",
    "- You may redeliver in Devilry before the deadline (__Friday, September 12 at 23:59__), but include all files in the last delivery.\n",
    "- Only the last delivery will be read! If you deliver more than one file, put them into a zip-archive. You don't have to include in your delivery the files already provided for this assignment. \n",
    "- Name your submission _your\\_username\\_in4080\\_mandatory1_\n",
    "- You can work on this assignment either on the IFI machines or on your own computer. \n",
    "\n",
    "*The preferred format for the assignment is a completed version of this Jupyter notebook*, containing both your code and explanations about the steps you followed. We want to stress that simply submitting code is __not__ by itself sufficient to complete the assignment - we expect the notebook to also contain explanations of what you have implemented, along with motivations for the choices you made along the way. Preferably use whole sentences, and mathematical formulas if necessary. Explaining in your own words (using concepts we have covered through in the lectures) what you have done and reflecting on your solution is an important part of the learning process - take it seriously!\n",
    "\n",
    "Regarding the use of LLMs (ChatGPT or similar): you are allowed to use them as 'sparring partner', for instance to clarify something you have not understood. However, you are __not__ allowed to use them to generate solutions (either in part or in full) to the assignment tasks. \n",
    "\n",
    "__Technical tip__: Some of the tasks in this assignment will require you to extend methods in classes that are already partly implemented. To implement those methods directly in a Jupyter notebook, you can use the function `setattr` to attach a method to a given class: \n",
    "\n",
    "```python\n",
    "class A:\n",
    "    pass\n",
    "a = A()\n",
    "\n",
    "def foo(self):\n",
    "    print('hello world!')\n",
    "    \n",
    "setattr(A, 'foo', foo)\n",
    "```"
   ]
  },
  {
   "cell_type": "markdown",
   "metadata": {},
   "source": [
    "First, make sure that all required modules are installed:"
   ]
  },
  {
   "cell_type": "code",
   "execution_count": 1,
   "metadata": {},
   "outputs": [
    {
     "name": "stdout",
     "output_type": "stream",
     "text": [
      "Requirement already satisfied: tqdm in /uio/hume/student-u69/gardaan/.conda/envs/in4080_2025/lib/python3.12/site-packages (4.67.1)\n",
      "Requirement already satisfied: numpy in /uio/hume/student-u69/gardaan/.conda/envs/in4080_2025/lib/python3.12/site-packages (1.26.4)\n",
      "Requirement already satisfied: scikit_learn in /uio/hume/student-u69/gardaan/.conda/envs/in4080_2025/lib/python3.12/site-packages (1.7.1)\n",
      "Requirement already satisfied: scipy>=1.8.0 in /uio/hume/student-u69/gardaan/.conda/envs/in4080_2025/lib/python3.12/site-packages (from scikit_learn) (1.13.1)\n",
      "Requirement already satisfied: joblib>=1.2.0 in /uio/hume/student-u69/gardaan/.conda/envs/in4080_2025/lib/python3.12/site-packages (from scikit_learn) (1.5.1)\n",
      "Requirement already satisfied: threadpoolctl>=3.1.0 in /uio/hume/student-u69/gardaan/.conda/envs/in4080_2025/lib/python3.12/site-packages (from scikit_learn) (3.5.0)\n",
      "Note: you may need to restart the kernel to use updated packages.\n"
     ]
    }
   ],
   "source": [
    "%pip install tqdm numpy scikit_learn"
   ]
  },
  {
   "cell_type": "markdown",
   "metadata": {},
   "source": [
    "## Part 1 : Tokenisation\n",
    "\n",
    "We will start by building a basic tokenizer relying on white space and punctuation. \n",
    "\n",
    "__Task 1.1__ (2 points): Implement the method `split` below such that it takes a text as input and outputs a list of tokens. The tokenisation should simply be done by splitting on white space, except for punctuation markers and other symbols (`.,:;!?-()\"`), which should correspond to their own token. For instance, the sentence \"Pierre, who works at NR, also teaches at UiO.\" should be split into 12 tokens."
   ]
  },
  {
   "cell_type": "code",
   "execution_count": 2,
   "metadata": {},
   "outputs": [
    {
     "name": "stdout",
     "output_type": "stream",
     "text": [
      "['Pierre', ',', 'who', 'works', 'at', 'NR', ',', 'also', 'teaches', 'at', 'UiO', '.']\n",
      "Tokens: 12\n"
     ]
    }
   ],
   "source": [
    "from typing import List\n",
    "import re\n",
    "\n",
    "def basic_tokenize(text: str) -> List[str]:\n",
    "    \"\"\"The method should split the text on white space, except for punctuation\n",
    "    markers that should be considered as tokens of their own (even in the \n",
    "    absence of white space before or after their occurrence)\"\"\"\n",
    "    \n",
    "    pattern = r'\\s*([\\.,:;!?\\-\\(\\)\\\"]+)\\s*|\\s+'\n",
    "    result = [token for token in re.split(pattern, text) if token]\n",
    "\n",
    "    return result\n",
    "\n",
    "test_text = \"Pierre, who works at NR, also teaches at UiO.\"\n",
    "print(basic_tokenize(test_text))\n",
    "print(f\"Tokens: {len(basic_tokenize(test_text))}\")"
   ]
  },
  {
   "cell_type": "markdown",
   "metadata": {},
   "source": [
    "We will now run the tokeniser on a small corpus, the [Norwegian Dependency Treebank](https://www.nb.no/sprakbanken/en/resource-catalogue/oai-nb-no-sbr-10/) (the corpus has been annotated with morphological features, syntactic functions and hierarchical structures, but we'll simply use here the raw text and discard all the annotation layers). We provide you with the data in the files `ndt_train_lm.txt` and `ndt_test_lm.txt`. \n",
    "\n",
    "__Task 1.2__ (1 point): Run the tokenizer you have implemented on `ndt_test_lm.txt`. How many tokens were extracted? And how many types (distinct words) were there? "
   ]
  },
  {
   "cell_type": "code",
   "execution_count": 3,
   "metadata": {},
   "outputs": [
    {
     "name": "stdout",
     "output_type": "stream",
     "text": [
      "258330\n",
      "30103\n"
     ]
    }
   ],
   "source": [
    "with open('ndt_test_lm.txt') as f:\n",
    "    ndt_test_lm_content = f.read()\n",
    "\n",
    "tokens = basic_tokenize(ndt_test_lm_content)\n",
    "\n",
    "print(len(tokens))\n",
    "print(len(set(tokens)))"
   ]
  },
  {
   "cell_type": "markdown",
   "metadata": {},
   "source": [
    "Number of tokens: 258 330\n",
    "\n",
    "Types: 30 103\n",
    "\n",
    "---"
   ]
  },
  {
   "cell_type": "markdown",
   "metadata": {},
   "source": [
    "We shall now use Byte-Pair Encoding (BPE) to limit the vocabulary of the tokenizer to 5,000.  An initial implementation of the algorithm is provided below."
   ]
  },
  {
   "cell_type": "code",
   "execution_count": 4,
   "metadata": {},
   "outputs": [],
   "source": [
    "from typing import Dict, List, Tuple, Iterator\n",
    "import numpy as np\n",
    "from tqdm.notebook import tqdm\n",
    "\n",
    "class BPETokenizer:\n",
    "    \"\"\"Tokenizer based on the Byte-Pair Encoding algorithm. \n",
    "    Note: the current implementation is limited to Latin characters (ISO-8859-1)\"\"\"\n",
    "\n",
    "    def __init__(self, train_corpus_file: str, vocab_size = 5000):\n",
    "        \"\"\"Creates a new BPE tokenizer, with merge pairs found using the given\n",
    "        corpus file. The extraction of merge pairs stops when a vocabulary of \n",
    "        size vocab_size is reached.\"\"\"\n",
    "\n",
    "        # List of string pairs that should be merged when tokenizing\n",
    "        # Example: ('e', 't'), which means that 'et' is a possible subword\n",
    "        # Each string pair is mapped to an unique index number\n",
    "        # (corresponding to their position in the self.vocab list)\n",
    "        self.merge_pairs = {}\n",
    "\n",
    "        # We add as basic vocab all characters of the extended ASCII\n",
    "        self.vocab = [chr(i) for i in range(256)]\n",
    "\n",
    "        with open(train_corpus_file) as fd:\n",
    "\n",
    "            # We first read the corpus, split on white space, and counts the\n",
    "            # occurrences of each distinct word\n",
    "            print(\"Counting word occurrences in corpus %s\"%train_corpus_file, end=\"...\", flush=True)\n",
    "            text = fd.read()\n",
    "            vocabulary_counts = {}\n",
    "            for token in text.split():\n",
    "                vocabulary_counts[token] = vocabulary_counts.get(token, 0) + 1\n",
    "            print(\"Done\")\n",
    "\n",
    "            # We then iteratively extend the list of merge pairs until we\n",
    "            # reach the desired size. Note: to speed up the algorithm, we \n",
    "            # extract n merge pairs at each iteration\n",
    "            progress_bar = tqdm(total=vocab_size)\n",
    "            while len(self.vocab) < vocab_size:\n",
    "                most_common_pairs = self.get_most_common_pairs(vocabulary_counts)\n",
    "                for common_pair in most_common_pairs:\n",
    "                    self.merge_pairs[common_pair] = len(self.vocab)\n",
    "                    self.vocab.append(\"\".join(common_pair))\n",
    "                progress_bar.update(len(most_common_pairs))\n",
    "         #       print(\"Examples of new subwords:\", [\"\".join(pair) for pair in most_common_pairs][:10])\n",
    "            \n",
    "    def get_most_common_pairs(self, vocabulary_counts: Dict[str,int], \n",
    "                              n:int=200) -> List[Tuple[str,str]]:\n",
    "        \"\"\"Given a set of distinct words along with their corresponding number \n",
    "        of occurrences in the corpus, returns the n most frequent pairs of subwords.       \n",
    "        \"\"\"\n",
    "\n",
    "        # We count the frequencies of consecutive subwords in the vocabulary list\n",
    "        pair_freqs = {}\n",
    "        for word, word_count in vocabulary_counts.items():\n",
    "            subwords = self.tokenize_word(word)\n",
    "            for i in range(len(subwords)-1):\n",
    "                byte_pair = (subwords[i], subwords[i+1])\n",
    "                pair_freqs[byte_pair] = pair_freqs.get(byte_pair, 0) + word_count\n",
    "\n",
    "        # And return the most frequent ones\n",
    "        most_freq_pairs = sorted(pair_freqs.keys(), key=lambda x: pair_freqs[x])[::-1][:n]\n",
    "        return most_freq_pairs\n",
    "\n",
    "    def __call__(self, input:str, show_progress_bar=True) -> Iterator[str]:\n",
    "        \"\"\"Tokenizes a full text\"\"\"\n",
    "\n",
    "        # We first split into whitespace-separated tokens, and then in subwords\n",
    "        words = input.split()\n",
    "        for word in tqdm(words) if show_progress_bar else words:\n",
    "            subwords = self.tokenize_word(word)\n",
    "            for subword in subwords:\n",
    "                yield subword\n",
    "                \n",
    "\n",
    "    def tokenize_word(self, word):\n",
    "        \"\"\"Splits the word into subwords, according to the merge pairs \n",
    "        currently stored in self.merge_pairs.\"\"\"\n",
    "\n",
    "        # We start with a list of characters\n",
    "        # (+ a final character to denote the end of the word)    \n",
    "        splits = list(word) + [\" \"]\n",
    "\n",
    "        # We continue until there is nothing left to be merged\n",
    "        while len(splits)>=2:\n",
    "\n",
    "            # We extract consecutive subword pairs\n",
    "            pairs = [(splits[i], splits[i+1]) for i in range(len(splits)-1)]\n",
    "\n",
    "            # We find the \"best\" pair of subwords to merge -- that is, the one with the \n",
    "            # lowest position in the list of merge rules\n",
    "            best_pair_to_merge = min(pairs, key=lambda x: self.merge_pairs.get(x, np.inf))\n",
    "            if best_pair_to_merge in self.merge_pairs:\n",
    "\n",
    "                # We then merge the two subwords\n",
    "                for i in range(len(splits)-1):\n",
    "                    if (splits[i], splits[i+1]) == best_pair_to_merge:\n",
    "                        merged_subword = self.vocab[self.merge_pairs[best_pair_to_merge]]\n",
    "                        splits = splits[:i] + [merged_subword] + splits[i+2:]\n",
    "                        break\n",
    "            else:\n",
    "                break\n",
    "        return splits"
   ]
  },
  {
   "cell_type": "markdown",
   "metadata": {},
   "source": [
    "__Task 1.3__ (1 point): Learn the BPE tokenizer on the `ndt_train_lm.txt` corpus, and then apply this tokenizer on `ndt_test_lm.txt`. Print the number of tokens and types (distinct subwords) obtained by this tokenizer on the test data. How do those numbers compare to the ones obtained with the basic tokenizer you had implemented earlier ? "
   ]
  },
  {
   "cell_type": "code",
   "execution_count": null,
   "metadata": {},
   "outputs": [
    {
     "name": "stdout",
     "output_type": "stream",
     "text": [
      "Counting word occurrences in corpus ndt_train_lm.txt..."
     ]
    },
    {
     "name": "stdout",
     "output_type": "stream",
     "text": [
      "Done\n"
     ]
    },
    {
     "data": {
      "application/vnd.jupyter.widget-view+json": {
       "model_id": "324007aff4bb4183b98d6dfca15c284b",
       "version_major": 2,
       "version_minor": 0
      },
      "text/plain": [
       "  0%|          | 0/5000 [00:00<?, ?it/s]"
      ]
     },
     "metadata": {},
     "output_type": "display_data"
    },
    {
     "data": {
      "application/vnd.jupyter.widget-view+json": {
       "model_id": "244290e3036046bcabf117fd6fe7f47f",
       "version_major": 2,
       "version_minor": 0
      },
      "text/plain": [
       "  0%|          | 0/226096 [00:00<?, ?it/s]"
      ]
     },
     "metadata": {},
     "output_type": "display_data"
    },
    {
     "name": "stdout",
     "output_type": "stream",
     "text": [
      "386099\n",
      "4408\n"
     ]
    }
   ],
   "source": [
    "tokenizer = BPETokenizer('ndt_train_lm.txt')\n",
    "tokens = tokenizer(ndt_test_lm_content)\n",
    "tokens = list(tokens)\n",
    "\n",
    "print(f\"Number of tokens: {len(tokens)}\")\n",
    "print(f\"Types: {len(set(tokens))}\")"
   ]
  },
  {
   "cell_type": "markdown",
   "metadata": {},
   "source": [
    "Comparison: There are significantly more tokens with the BPE tokenizer compared to the basic tokenizer (386 099 vs. 258 330), and significantly fewer types (4408 vs. 30 103). This is because BPE breaks rare words down into more common subwords, increasing token count and reducing vocab size.\n",
    "\n",
    "---"
   ]
  },
  {
   "cell_type": "markdown",
   "metadata": {},
   "source": [
    "__Task 1.4__ (2 points): The current BPE implementation is that it treats all characters in the same manner. A rather inconvenient side effect is that letters may be merged together with punctuation markers (like 'ing', ',' --> 'ing,'), if they are not separated by white space. Modify the implementation of the BPE algorithm above to prevent punctuation markers to be merged with letters. "
   ]
  },
  {
   "cell_type": "code",
   "execution_count": null,
   "metadata": {},
   "outputs": [],
   "source": [
    "import string\n",
    "\n",
    "def new_get_most_common_pairs(\n",
    "    self, vocabulary_counts: Dict[str, int], n: int = 200\n",
    ") -> List[Tuple[str, str]]:\n",
    "        \n",
    "    punctuation_chars = set(string.punctuation)\n",
    "\n",
    "    pair_freqs = {}\n",
    "    for word, word_count in vocabulary_counts.items():\n",
    "        subwords = self.tokenize_word(word)\n",
    "        for i in range(len(subwords) - 1):\n",
    "            s1, s2 = subwords[i], subwords[i + 1]\n",
    "\n",
    "            s1_is_alpha = s1.isalpha()\n",
    "            s2_is_alpha = s2.isalpha()\n",
    "\n",
    "            # if non-empty and all chars are punctuation\n",
    "            s1_is_punct = len(s1) > 0 and all(c in punctuation_chars for c in s1)\n",
    "            s2_is_punct = len(s2) > 0 and all(c in punctuation_chars for c in s2)\n",
    "\n",
    "            # skip if one is alphanumeric and the other is punctuation\n",
    "            if (s1_is_alpha and s2_is_punct) or (s1_is_punct and s2_is_alpha):\n",
    "                continue\n",
    "\n",
    "            byte_pair = (s1, s2)\n",
    "            pair_freqs[byte_pair] = (\n",
    "                pair_freqs.get(byte_pair, 0) + word_count\n",
    "            )\n",
    "\n",
    "    most_freq_pairs = sorted(pair_freqs.keys(), key=lambda x: pair_freqs[x])[::-1][:n]\n",
    "    return most_freq_pairs\n",
    "\n",
    "setattr(BPETokenizer, \"get_most_common_pairs\", new_get_most_common_pairs)"
   ]
  },
  {
   "cell_type": "markdown",
   "metadata": {},
   "source": [
    "__Task 1.5__ (_optional, 2 extra points_): In a [tweet](https://x.com/karpathy/status/1759996551378940395) published last year, the well-known AI researcher Andrej Karpathy stressed that many of the current limitations of Large Language Models are actually a product of the tokenisation step. Explain at least 4 of the problems he mentioned in his tweet (you can of course search online, or watch Karpathy's own video lecture on tokenization)."
   ]
  },
  {
   "cell_type": "markdown",
   "metadata": {},
   "source": [
    "- Why can't LLMs do super simple string processing tasks like reversing a string? Tokenization\n",
    "\n",
    "Explanation: LLMs don't \"see\" or output individual letters, but tokens. A string such as \"reversing\" may be tokenized as [\"re\", \"vers\", \"ing\"], meaning the model doesn't even see the raw characters in order to manipulate them.\n",
    "\n",
    "- Why is LLM bad at simple arithmetic? Tokenization\n",
    "\n",
    "Explanation: LLMs see numbers as text, not actual numbers, and predicts text based on patterns, not performing actual math.\n",
    "\n",
    "- Why is LLM worse at non-English languages (e.g. Japanese)? Tokenization\n",
    "\n",
    "Explanation: Because Japanese doesn't have spaces, and a meaningful word may consist of several characters which are split.\n",
    "\n",
    "- Why is LLM not actually end-to-end language modeling? Tokenization\n",
    "\n",
    "Explanation: They don't operate on raw text but tokens created by a pre-defined tokenizer. This breaks the connection between input and the model."
   ]
  },
  {
   "cell_type": "markdown",
   "metadata": {},
   "source": [
    "## Part 2: N-gram language models\n",
    "\n",
    "We will now train simple N-gram language models on the NDT corpus, using the tokenizers we have developed in Part 1.\n",
    "\n",
    "Here is the skeleton of the code:"
   ]
  },
  {
   "cell_type": "code",
   "execution_count": 7,
   "metadata": {},
   "outputs": [],
   "source": [
    "import numpy as np\n",
    "from abc import abstractmethod\n",
    "\n",
    "class LanguageModel:\n",
    "    \"\"\"Generic class for running operations on language models, using a BPE tokenizer\"\"\"\n",
    "\n",
    "    def __init__(self, tokenizer: BPETokenizer):\n",
    "        \"\"\"Build an abstract language model using the provided tokenizer\"\"\"\n",
    "        self.tokenizer = tokenizer\n",
    " \n",
    "    @abstractmethod\n",
    "    def predict(self, context_tokens: List[str]):\n",
    "        \"\"\"Given a list of context tokens (=previous tokens), returns a dictionary\n",
    "          mapping each possible token to its probability\"\"\"\n",
    "        raise NotImplementedError()\n",
    "    \n",
    "    @abstractmethod\n",
    "    def get_perplexity(self, text: str):\n",
    "        \"\"\"Computes the perplexity of the given text according to the LM\"\"\"\n",
    "\n",
    "        print(\"Tokenising input text:\")\n",
    "        tokens = list(self.tokenizer(text))\n",
    "        \n",
    "        print(\"Computing perplexity:\")\n",
    "        log_probs = 0\n",
    "        for i in tqdm(range(len(tokens))):\n",
    "            context_tokens = [\"<s>\"] + tokens[:i]\n",
    "            predict_distrib = self.predict(context_tokens)\n",
    "\n",
    "            # We add the log-probabilities\n",
    "            log_probs += np.log(predict_distrib[tokens[i]])\n",
    "            \n",
    "        perplexity = np.exp(-log_probs/len(tokens))\n",
    "        return perplexity\n",
    "\n",
    "class NGramLanguageModel(LanguageModel):\n",
    "    \"\"\"Representation of a N-gram-based language model\"\"\"\n",
    "\n",
    "    def __init__(self, training_corpus_file: str, tokenizer:BPETokenizer, ngram_size:int=3,\n",
    "                  alpha_smoothing:float=1):\n",
    "        \"\"\"Initialize the N-gram model with:\n",
    "        - a file path to a training corpus to estimate the N-gram probabilities\n",
    "        - an already learned BPE tokenizer\n",
    "        - an N-gram size\n",
    "        - a smoothing parameter (Laplace smoothing)\"\"\"\n",
    "        \n",
    "        LanguageModel.__init__(self, tokenizer)\n",
    "        self.ngram_size = ngram_size\n",
    "        \n",
    "        # We define a simple backoff distribution (here just a uniform distribution)\n",
    "        self.default_distrib = {token:1/len(tokenizer.vocab) for token in tokenizer.vocab}\n",
    "\n",
    "        # Dictionary mapping a context (for instance the two preceding words if ngram_size=3)\n",
    "        # to another dictionary specifying the probability of each possible word in the \n",
    "        # vocabulary. The context should be a tuple of tokens.\n",
    "        self.ngram_probs = {}\n",
    "        with open(training_corpus_file) as fd:   \n",
    "\n",
    "            # based on the training corpus, tokenizer, ngram-size and smoothing parameter,\n",
    "            # fill the self.ngram_probs with the correct N-gram probabilities  \n",
    "            raise NotImplementedError()\n",
    " \n",
    "\n",
    "    def predict(self, context_tokens: List[str]):\n",
    "        \"\"\"Given a list of preceding tokens, returns the probability distribution \n",
    "        over the next possible token.\"\"\"\n",
    "\n",
    "        # We restrict the contextual tokens to (N-1) tokens\n",
    "        context_tokens = tuple(context_tokens[-self.ngram_size+1:])\n",
    "\n",
    "        # If the contextual tokens were indeed observed in the corpus, simply\n",
    "        # returns the precomputed probabilities\n",
    "        if context_tokens in self.ngram_probs:\n",
    "            return self.ngram_probs[context_tokens]\n",
    "        \n",
    "        # Otherwise, we return a uniform distribution over possible tokens\n",
    "        else:\n",
    "            return self.default_distrib"
   ]
  },
  {
   "cell_type": "markdown",
   "metadata": {},
   "source": [
    "__Task 2.1__ (6 points): Complete the initialization method `__init__` to estimate the correct N-gram probabilities (with smoothing) based on the corpus. Don't worry about making your implementation super-efficient (although you can if you wish)."
   ]
  },
  {
   "cell_type": "code",
   "execution_count": 11,
   "metadata": {},
   "outputs": [],
   "source": [
    "from collections import defaultdict, Counter\n",
    "\n",
    "def __init__(\n",
    "    self,\n",
    "    training_corpus_file: str,\n",
    "    tokenizer: \"BPETokenizer\",\n",
    "    ngram_size: int = 3,\n",
    "    alpha_smoothing: float = 1,\n",
    "):\n",
    "    LanguageModel.__init__(self, tokenizer)\n",
    "    self.ngram_size = ngram_size\n",
    "    self.ngram_probs = {}\n",
    "\n",
    "    self.default_distrib = {token:1/len(tokenizer.vocab) for token in tokenizer.vocab}\n",
    "\n",
    "    with open(training_corpus_file, \"r\", encoding=\"utf-8\") as f:\n",
    "        text = f.read()\n",
    "\n",
    "    tokens = list(self.tokenizer(text))\n",
    "\n",
    "    ngram_counts = defaultdict(int)\n",
    "    context_counts = defaultdict(int)\n",
    "\n",
    "    for i in range(len(tokens) - ngram_size + 1):\n",
    "        ngram = tuple(tokens[i : i + ngram_size])\n",
    "        context = ngram[:-1]\n",
    "        ngram_counts[ngram] += 1\n",
    "        context_counts[context] += 1\n",
    "\n",
    "    vocab_size = len(self.tokenizer.vocab)\n",
    "\n",
    "    for context, count_context in context_counts.items():\n",
    "        denominator = count_context + alpha_smoothing * vocab_size\n",
    "        default_prob = alpha_smoothing / denominator\n",
    "        self.ngram_probs[context] = defaultdict(lambda p=default_prob: p)\n",
    "\n",
    "    for ngram, count_ngram in ngram_counts.items():\n",
    "        context = ngram[:-1]\n",
    "        token = ngram[-1]\n",
    "        count_context = context_counts[context]\n",
    "        denominator = count_context + alpha_smoothing * vocab_size\n",
    "        numerator = count_ngram + alpha_smoothing\n",
    "        self.ngram_probs[context][token] = numerator / denominator\n",
    "\n",
    "setattr(NGramLanguageModel, '__init__', __init__)"
   ]
  },
  {
   "cell_type": "markdown",
   "metadata": {},
   "source": [
    "First, the code goes through the training text to count how often n-grams and their contexts appear. We can't use these counts for probs, because any sequence not seen would get a prob of zero. Laplace smoothing fixes this by addin a small value to every count."
   ]
  },
  {
   "cell_type": "markdown",
   "metadata": {},
   "source": [
    "__Task 2.2__ (1 point): Train your language model in `ndt_train_lm.txt`, and compute its perplexity on the test data in `ndt_test_lm.txt`. The perplexity can be computed by calling the method `get_perplexity`. <br>\n",
    "(_Note_: if the training takes too much time, feel free to stop the process after looking at a fraction of the corpus, at least while you are testing/developing your training setup)."
   ]
  },
  {
   "cell_type": "code",
   "execution_count": 13,
   "metadata": {},
   "outputs": [
    {
     "data": {
      "application/vnd.jupyter.widget-view+json": {
       "model_id": "1652cf7e939746c9b5ce549f25253412",
       "version_major": 2,
       "version_minor": 0
      },
      "text/plain": [
       "  0%|          | 0/872824 [00:00<?, ?it/s]"
      ]
     },
     "metadata": {},
     "output_type": "display_data"
    }
   ],
   "source": [
    "model = NGramLanguageModel(\"ndt_train_lm.txt\", tokenizer, 3, 1)"
   ]
  },
  {
   "cell_type": "code",
   "execution_count": 16,
   "metadata": {},
   "outputs": [
    {
     "name": "stdout",
     "output_type": "stream",
     "text": [
      "Tokenising input text:\n"
     ]
    },
    {
     "data": {
      "application/vnd.jupyter.widget-view+json": {
       "model_id": "e7f181f1c30b4e10bb1a793b18d461a6",
       "version_major": 2,
       "version_minor": 0
      },
      "text/plain": [
       "  0%|          | 0/226096 [00:00<?, ?it/s]"
      ]
     },
     "metadata": {},
     "output_type": "display_data"
    },
    {
     "name": "stdout",
     "output_type": "stream",
     "text": [
      "Computing perplexity:\n"
     ]
    },
    {
     "data": {
      "application/vnd.jupyter.widget-view+json": {
       "model_id": "ba2923a31a734d7c8286961811ec2eb5",
       "version_major": 2,
       "version_minor": 0
      },
      "text/plain": [
       "  0%|          | 0/386099 [00:00<?, ?it/s]"
      ]
     },
     "metadata": {},
     "output_type": "display_data"
    },
    {
     "name": "stdout",
     "output_type": "stream",
     "text": [
      "1708.7573547336558\n"
     ]
    }
   ],
   "source": [
    "with open('ndt_test_lm.txt') as f:\n",
    "    test_content = f.read()\n",
    "\n",
    "print(model.get_perplexity(test_content))"
   ]
  },
  {
   "cell_type": "markdown",
   "metadata": {},
   "source": [
    "__Task 2.3__ (_optional_, 4 bonus points): Improve the language model you have just developed. You can choose to focus on improving your model through a backoff mechanism, interpolation, or both. Once you are done, compute the perplexity again on the test corpus to ensure the language model has indeed improved."
   ]
  },
  {
   "cell_type": "markdown",
   "metadata": {},
   "source": [
    "## Part 3: Text classification\n",
    "\n",
    "We will finally use the texts from the Norwegian Dependency Treebank for a classification task -- more precisely to determine whether a sentence is likely to be written in Bokmål or Nynorsk. To this end, we will use a simple bag-of-word setup (or more precisely a bag-of-_subwords_, since we will rely on the subwords extracted using BPE) along with a logistic regression model. As there is only two, mutually exclusive classes, you can view the task as a binary classification problem. \n",
    "\n",
    "The training data is found in `ndt_train_class.txt` and simply consists of a list of sentences, each sentence being mapped to a language form (Bokmål: `nob` or Nynorsk: `nno`). The language form is written at the end of each line, separated by a `\\t`. Note the training examples are currently _not_ shuffled.\n",
    "\n",
    "To train and apply your classifier, the easiest is to use the [`LogisticRegression`](https://scikit-learn.org/stable/modules/generated/sklearn.linear_model.LogisticRegression.html) model from `scikit-learn`."
   ]
  },
  {
   "cell_type": "markdown",
   "metadata": {},
   "source": [
    "__Task 3.1__ (2 points): Create a `N x V` matrix in which each line corresponds to a training example (out of `N` training instances) and each row corresponds to an individual feature, in this case the presence/absence of a particular subword in the sentence. In other words, there should be a total of `V` features, where `V` is the total size of the vocabulary for our BPE tokenizer. Also create a vector of length `N` with a value of `1` if the sentence was marked as Nynorsk, and 0 if is was marked as Bokmål. "
   ]
  },
  {
   "cell_type": "code",
   "execution_count": 31,
   "metadata": {},
   "outputs": [],
   "source": [
    "def prepare_data(file_path, tokenizer, word_to_idx=None):\n",
    "    print(f\"prepare_data() file: {file_path}\")\n",
    "    \n",
    "    labels = []\n",
    "    tokenized_sentences = []\n",
    "\n",
    "    with open(file_path, 'r', encoding='utf-8') as f:\n",
    "        for line in f:\n",
    "            line = line.strip()\n",
    "            if '\\t' in line:\n",
    "                sentence, label = line.rsplit('\\t', 1)\n",
    "                tokens = list(tokenizer(sentence, show_progress_bar=False))\n",
    "                tokenized_sentences.append(tokens)\n",
    "                labels.append(label)\n",
    "\n",
    "    if word_to_idx is None:\n",
    "        all_tokens = [token for sent in tokenized_sentences for token in sent]\n",
    "        vocab = sorted(list(set(all_tokens)))\n",
    "        word_to_idx = {word: i for i, word in enumerate(vocab)}\n",
    "\n",
    "    N = len(tokenized_sentences)\n",
    "    V = len(word_to_idx)\n",
    "    print(f\"Samples: {N}. Vocab size: {V}.\")\n",
    "    X = np.zeros((N, V), dtype=np.int8)\n",
    "\n",
    "    for i, tokens in enumerate(tokenized_sentences):\n",
    "        for token in tokens:\n",
    "            # ignore tokens not in training vocab\n",
    "            if token in word_to_idx:\n",
    "                j = word_to_idx[token]\n",
    "                X[i, j] = 1\n",
    "    \n",
    "    y = np.array([1 if label == 'nno' else 0 for label in labels], dtype=np.int8)\n",
    "\n",
    "    return X, y, word_to_idx"
   ]
  },
  {
   "cell_type": "code",
   "execution_count": 32,
   "metadata": {},
   "outputs": [
    {
     "name": "stdout",
     "output_type": "stream",
     "text": [
      "prepare_data() file: ndt_train_class.txt\n",
      "Samples: 29905. Vocab size: 4880.\n"
     ]
    }
   ],
   "source": [
    "X_train, y_train, word_to_idx = prepare_data('ndt_train_class.txt', tokenizer)"
   ]
  },
  {
   "cell_type": "markdown",
   "metadata": {},
   "source": [
    "__Task 3.2__ (2 points): Use the data matrix you have just filled to train a logistic regression model (see the documentation on [`LogisticRegression`](https://scikit-learn.org/stable/modules/generated/sklearn.linear_model.LogisticRegression.html) for more details). We recommend to use the `liblinear` solver. "
   ]
  },
  {
   "cell_type": "code",
   "execution_count": 33,
   "metadata": {},
   "outputs": [
    {
     "name": "stdout",
     "output_type": "stream",
     "text": [
      "\n",
      "Training the Logistic Regression model...\n",
      "Model training complete.\n"
     ]
    }
   ],
   "source": [
    "from sklearn.linear_model import LogisticRegression\n",
    "\n",
    "model = LogisticRegression(solver=\"liblinear\", random_state=42)\n",
    "\n",
    "print(\"\\nTraining the Logistic Regression model...\")\n",
    "model.fit(X_train, y_train)\n",
    "print(\"Model training complete.\")"
   ]
  },
  {
   "cell_type": "markdown",
   "metadata": {},
   "source": [
    "__Task 3.3__ (1 point): Now apply the learned logistic regression model to the test set in `ndt_test_class.txt`, and evaluate its performance in terms of accuracy, recall and precision (you can use the functionalities in `sklearn.metrics` to compute those easily)."
   ]
  },
  {
   "cell_type": "code",
   "execution_count": 34,
   "metadata": {},
   "outputs": [
    {
     "name": "stdout",
     "output_type": "stream",
     "text": [
      "prepare_data() file: ndt_test_class.txt\n",
      "Samples: 7715. Vocab size: 4880.\n",
      "\n",
      "Accuracy on test data: 0.9421\n",
      "\n",
      "              precision    recall  f1-score   support\n",
      "\n",
      "      Bokmål       0.93      0.96      0.95      4086\n",
      "     Nynorsk       0.95      0.93      0.94      3629\n",
      "\n",
      "    accuracy                           0.94      7715\n",
      "   macro avg       0.94      0.94      0.94      7715\n",
      "weighted avg       0.94      0.94      0.94      7715\n",
      "\n"
     ]
    }
   ],
   "source": [
    "from sklearn.metrics import accuracy_score, classification_report\n",
    "\n",
    "X_test, y_test, _ = prepare_data('ndt_test_class.txt', tokenizer, word_to_idx)\n",
    "\n",
    "y_pred_test = model.predict(X_test)\n",
    "\n",
    "accuracy = accuracy_score(y_test, y_pred_test)\n",
    "print(f\"\\nAccuracy on test data: {accuracy:.4f}\\n\")\n",
    "\n",
    "target_names = [\"Bokmål\", \"Nynorsk\"]\n",
    "report = classification_report(y_test, y_pred_test, target_names=target_names)\n",
    "print(report)"
   ]
  },
  {
   "cell_type": "markdown",
   "metadata": {},
   "source": [
    "__Task 3.4__ (2 points): Inspect the weights learned by your logistic regression model (in `coef_`) and find the 5 subwords that contribute _the most_ to the classification of the sentence in Nynorsk. Also find the 5 subwords that contribute the most to the classification of the sentence in Bokmål. Do those weights make sense, according to what you know about Bokmål and Nynorsk ? "
   ]
  },
  {
   "cell_type": "code",
   "execution_count": 37,
   "metadata": {},
   "outputs": [
    {
     "name": "stdout",
     "output_type": "stream",
     "text": [
      "Bokmål:\n",
      "Word: 'sier '       -3.2598\n",
      "Word: 'ikke '       -3.2201\n",
      "Word: 'jeg '        -3.0695\n",
      "Word: 'fra '        -2.9069\n",
      "Word: 'Jeg '        -2.7212\n",
      "\n",
      "Nynorsk:\n",
      "Word: 'ikkje '      4.2222\n",
      "Word: 'frå '        4.0436\n",
      "Word: 'eit '        3.9548\n",
      "Word: 'dei '        3.5282\n",
      "Word: 'ein '        3.4037\n"
     ]
    }
   ],
   "source": [
    "coefficients = model.coef_[0]\n",
    "idx_to_word = {i: word for word, i in word_to_idx.items()}\n",
    "sorted_indices = np.argsort(coefficients)\n",
    "\n",
    "print(\"Bokmål:\")\n",
    "top_bokmal_indices = sorted_indices[:5]\n",
    "for i in top_bokmal_indices:\n",
    "    word = idx_to_word[i]\n",
    "    coeff_value = coefficients[i]\n",
    "    print(f\"Word: '{word}'\".ljust(20) + f\"{coeff_value:.4f}\")\n",
    "\n",
    "print(\"\\nNynorsk:\")\n",
    "# last 5 indeces from sorted array, reversed\n",
    "top_nynorsk_indices = sorted_indices[-5:][::-1]\n",
    "for i in top_nynorsk_indices:\n",
    "    word = idx_to_word[i]\n",
    "    coeff_value = coefficients[i]\n",
    "    print(f\"Word: '{word}'\".ljust(20) + f\"{coeff_value:.4f}\")"
   ]
  },
  {
   "cell_type": "markdown",
   "metadata": {},
   "source": [
    "The weights make sense. All the words are mutually exclusive to their respective form. Ikke/ikkje, jeg/eg, etc."
   ]
  }
 ],
 "metadata": {
  "kernelspec": {
   "display_name": "Python 3",
   "language": "python",
   "name": "python3"
  },
  "language_info": {
   "codemirror_mode": {
    "name": "ipython",
    "version": 3
   },
   "file_extension": ".py",
   "mimetype": "text/x-python",
   "name": "python",
   "nbconvert_exporter": "python",
   "pygments_lexer": "ipython3",
   "version": "3.12.11"
  }
 },
 "nbformat": 4,
 "nbformat_minor": 4
}
